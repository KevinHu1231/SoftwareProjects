{
  "nbformat": 4,
  "nbformat_minor": 0,
  "metadata": {
    "colab": {
      "name": "Copy of Copy of ANN Lecture",
      "version": "0.3.2",
      "provenance": [],
      "collapsed_sections": []
    },
    "kernelspec": {
      "name": "python3",
      "display_name": "Python 3"
    }
  },
  "cells": [
    {
      "cell_type": "markdown",
      "metadata": {
        "colab_type": "text",
        "id": "gBHZTy20dRs_"
      },
      "source": [
        "## Example 1: ANN Forward Pass"
      ]
    },
    {
      "cell_type": "code",
      "metadata": {
        "colab_type": "code",
        "id": "ZjNk5yQncGQH",
        "colab": {}
      },
      "source": [
        "import math\n",
        "\n",
        "# data (first column is the bias term)\n",
        "x = [[1, 0.1,-0.2], \n",
        "     [1,-0.1, 0.9], \n",
        "     [1, 1.2, 0.1], \n",
        "     [1, 1.1, 1.5]]\n",
        "\n",
        "# labels (desired output)\n",
        "t = [0, 0, 0, 1]\n",
        "\n",
        "# initial weights\n",
        "w = [1, -1, 1]\n",
        "\n",
        "def simple_ann(x, w, t):\n",
        "    y = []\n",
        "    for n in range(len(x)):\n",
        "      v = 0\n",
        "      for p in range(len(x[0])):\n",
        "          v = v + x[n][p]*w[p]\n",
        "      y.append(1 / (1 + math.e**(-v))) #sigmoidal activation\n",
        "    \n",
        "    return y\n",
        "\n",
        "y = simple_ann(x, w, t)"
      ],
      "execution_count": 0,
      "outputs": []
    },
    {
      "cell_type": "code",
      "metadata": {
        "colab_type": "code",
        "id": "7oxes6QxcGQJ",
        "colab": {}
      },
      "source": [
        "print(y)"
      ],
      "execution_count": 0,
      "outputs": []
    },
    {
      "cell_type": "markdown",
      "metadata": {
        "colab_type": "text",
        "id": "XeP_I3KRcGQG"
      },
      "source": [
        "## Example 2: ANN Forward Pass with MSE Error Term"
      ]
    },
    {
      "cell_type": "code",
      "metadata": {
        "colab_type": "code",
        "id": "7jq8YYhmcFWc",
        "colab": {}
      },
      "source": [
        "import math\n",
        "\n",
        "# data (first column is the bias term)\n",
        "x = [[1, 0.1,-0.2], \n",
        "     [1,-0.1, 0.9], \n",
        "     [1, 1.2, 0.1], \n",
        "     [1, 1.1, 1.5]]\n",
        "\n",
        "# labels (desired output)\n",
        "t = [0, 0, 0, 1]\n",
        "\n",
        "# initial weights\n",
        "w = [1, -1, 1]\n",
        "\n",
        "def simple_ann(x, w, t):\n",
        "    E = []\n",
        "    err = [] \n",
        "    y = []\n",
        "    for n in range(len(x)):\n",
        "        v = 0\n",
        "        for p in range(len(x[0])):\n",
        "            v = v + x[n][p]*w[p]\n",
        "        y.append(1 / (1 + math.e**(-v))) #sigmoidal activation\n",
        "            \n",
        "        err.append((y[n]-t[n])**2) # MSE error\n",
        "    E.append(sum(err)/len(x))\n",
        "    \n",
        "    return (y, w, E)\n",
        "\n",
        "(y, w, E) = simple_ann(x, w, t)"
      ],
      "execution_count": 0,
      "outputs": []
    },
    {
      "cell_type": "code",
      "metadata": {
        "colab_type": "code",
        "id": "JDtbgWzscFWf",
        "colab": {}
      },
      "source": [
        "print(y)"
      ],
      "execution_count": 0,
      "outputs": []
    },
    {
      "cell_type": "markdown",
      "metadata": {
        "id": "5vk1HIgTbbKt",
        "colab_type": "text"
      },
      "source": [
        "## Example 3: Gradient Descent with MSE"
      ]
    },
    {
      "cell_type": "code",
      "metadata": {
        "id": "8tmvmSv7bSvm",
        "colab_type": "code",
        "colab": {}
      },
      "source": [
        "import math\n",
        "\n",
        "# data (first column is the bias term)\n",
        "x = [[1, 0.1,-0.2], \n",
        "     [1,-0.1, 0.9], \n",
        "     [1, 1.2, 0.1], \n",
        "     [1, 1.1, 1.5]]\n",
        "\n",
        "# labels (desired output)\n",
        "t = [0, 0, 0, 1]\n",
        "\n",
        "# initial weights\n",
        "w = [1, -1, 1]\n",
        "\n",
        "iterations = 50\n",
        "learning = 10\n",
        "\n",
        "def simple_ann(x, w, t, iterations, learning):\n",
        "\n",
        "    E = [] #error\n",
        "    for ii in range(iterations):\n",
        "        err = [] \n",
        "        y = []\n",
        "        for n in range(len(x)):\n",
        "            v = 0\n",
        "            for p in range(len(x[0])):\n",
        "                v = v + x[n][p]*w[p]\n",
        "            y.append(1 / (1 + math.e**(-v))) #sigmoidal activation\n",
        "            \n",
        "            err.append((y[n]-t[n])**2)\n",
        "            \n",
        "            #gradient descent to compute new weights\n",
        "            for p in range(len(w)):\n",
        "                d = x[n][p]*(y[n]-t[n])*(1-y[n])*(y[n])\n",
        "                w[p] = w[p] - learning*d\n",
        "   \n",
        "        E.append(sum(err)/len(x))\n",
        "    \n",
        "    return (y, w, E)\n",
        "\n",
        "(y, w, E) = simple_ann(x, w, t, iterations, learning)"
      ],
      "execution_count": 0,
      "outputs": []
    },
    {
      "cell_type": "code",
      "metadata": {
        "id": "TncfaRORb5tN",
        "colab_type": "code",
        "colab": {}
      },
      "source": [
        "print(y)"
      ],
      "execution_count": 0,
      "outputs": []
    }
  ]
}